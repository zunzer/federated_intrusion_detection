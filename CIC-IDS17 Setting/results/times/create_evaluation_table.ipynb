{
 "cells": [
  {
   "cell_type": "markdown",
   "metadata": {
    "id": "vkdnLiKk71g-",
    "pycharm": {
     "name": "#%% md\n"
    }
   },
   "source": [
    "##### Copyright 2022 Seraphin Zunzer (391415)."
   ]
  },
  {
   "cell_type": "markdown",
   "metadata": {
    "pycharm": {
     "name": "#%% md\n"
    }
   },
   "source": [
    "# Data Preprocessing for Federated Intrusion Detection\n"
   ]
  },
  {
   "cell_type": "code",
   "execution_count": 2,
   "outputs": [
    {
     "name": "stdout",
     "output_type": "stream",
     "text": [
      "Reading resultprocessing.ipynb...\n",
      "Reading times_['Bot'].txt...\n",
      "['Bot', 0.0882, 0.5558, 0.1763, 80, 1966, 4.1]\n",
      "Reading times_['DDoS'].txt...\n",
      "['DDoS', 0.0666, 19.1573, 0.1884, 3687, 128027, 2.9]\n",
      "Reading times_['DoS GoldenEye'].txt...\n",
      "['DoS GoldenEye', 0.0534, 9.0, 0.209, 8715, 10293, 84.7]\n",
      "Reading times_['DoS Hulk'].txt...\n",
      "['DoS Hulk', 0.0818, 38.0, 0.4607, 6251, 231073, 2.7]\n",
      "Reading times_['DoS Slowhttptest'].txt...\n",
      "['DoS Slowhttptest', 0.1029, 18.4718, 0.576, 417, 5499, 7.6]\n",
      "Reading times_['DoS slowloris'].txt...\n",
      "['DoS slowloris', 0.089, 18.2582, 0.4987, 1308, 5796, 22.6]\n",
      "Reading times_['FTP-Patator'].txt...\n",
      "['FTP-Patator', 0.11, 0.9267, 0.2269, 841, 7938, 10.6]\n",
      "Reading times_['Heartbleed'].txt...\n",
      "['Heartbleed', 0.111, 0.2994, 0.1861, 11, 11, 100.0]\n",
      "Reading times_['Infiltration'].txt...\n",
      "['Infiltration', 0.1, 0.8082, 0.2154, 30, 36, 83.3]\n",
      "Reading times_['PortScan'].txt...\n",
      "['PortScan', 0.0469, 18.9554, 0.2616, 2855, 158930, 1.8]\n",
      "Reading times_['SSH-Patator'].txt...\n",
      "['SSH-Patator', 0.0942, 0.9888, 0.2378, 1963, 5897, 33.3]\n",
      "Reading times_['Web Attack � Brute Force'].txt...\n",
      "['Web Attack � Brute Force', 0.0696, 1.3728, 0.2028, 972, 1507, 64.5]\n",
      "Reading times_['Web Attack � Sql Injection'].txt...\n",
      "['Web Attack � Sql Injection', 0.1082, 0.7588, 0.3028, 10, 21, 47.6]\n",
      "Reading times_['Web Attack � XSS'].txt...\n",
      "['Web Attack � XSS', 0.099, 1.0822, 0.2194, 474, 652, 72.7]\n",
      "PortScan & 0.0469 & 18.9554 & 0.2616 & 2855 & 158930& 1.8\\% \\\\ \n",
      "\\hline\n",
      "DoS Hulk & 0.0818 & 38.0 & 0.4607 & 6251 & 231073& 2.7\\% \\\\ \n",
      "\\hline\n",
      "DDoS & 0.0666 & 19.1573 & 0.1884 & 3687 & 128027& 2.9\\% \\\\ \n",
      "\\hline\n",
      "Bot & 0.0882 & 0.5558 & 0.1763 & 80 & 1966& 4.1\\% \\\\ \n",
      "\\hline\n",
      "DoS Slowhttptest & 0.1029 & 18.4718 & 0.576 & 417 & 5499& 7.6\\% \\\\ \n",
      "\\hline\n",
      "FTP-Patator & 0.11 & 0.9267 & 0.2269 & 841 & 7938& 10.6\\% \\\\ \n",
      "\\hline\n",
      "DoS slowloris & 0.089 & 18.2582 & 0.4987 & 1308 & 5796& 22.6\\% \\\\ \n",
      "\\hline\n",
      "SSH-Patator & 0.0942 & 0.9888 & 0.2378 & 1963 & 5897& 33.3\\% \\\\ \n",
      "\\hline\n",
      "Web Attack � Sql Injection & 0.1082 & 0.7588 & 0.3028 & 10 & 21& 47.6\\% \\\\ \n",
      "\\hline\n",
      "Web Attack � Brute Force & 0.0696 & 1.3728 & 0.2028 & 972 & 1507& 64.5\\% \\\\ \n",
      "\\hline\n",
      "Web Attack � XSS & 0.099 & 1.0822 & 0.2194 & 474 & 652& 72.7\\% \\\\ \n",
      "\\hline\n",
      "Infiltration & 0.1 & 0.8082 & 0.2154 & 30 & 36& 83.3\\% \\\\ \n",
      "\\hline\n",
      "DoS GoldenEye & 0.0534 & 9.0 & 0.209 & 8715 & 10293& 84.7\\% \\\\ \n",
      "\\hline\n",
      "Heartbleed & 0.111 & 0.2994 & 0.1861 & 11 & 11& 100.0\\% \\\\ \n",
      "\\hline\n"
     ]
    }
   ],
   "source": [
    "import numpy as np\n",
    "import pandas as pd\n",
    "import os\n",
    "import collections\n",
    "\n",
    "res = []\n",
    "c = []\n",
    "total = [1966, 128027, 10293, 231073, 5499, 5796, 7938, 11, 36, 158930, 5897, 1507 , 21 , 652 ]\n",
    "k = 0\n",
    "for filename in os.listdir(os.getcwd()):\n",
    "    print(\"Reading \" + filename + \"...\")\n",
    "    name, file_extension = os.path.splitext(filename)\n",
    "    if 'times' in name:\n",
    "        x = []\n",
    "        with open(filename, 'r') as f:\n",
    "            for line in f:\n",
    "                if line: #avoid blank lines\n",
    "                    try:\n",
    "                       x.append(float(line.strip()))\n",
    "                    except:\n",
    "                        continue\n",
    "        #print(x)\n",
    "        try:\n",
    "            l = [name[name.find('[\\'')+len('[\\''):name.rfind('\\']')], round(min(x),4), round(max(x),4),round(sum(x)/len(x),4), len(x), total[k] , round((len(x)/total[k])*100,1)]\n",
    "            res.append(l)\n",
    "            print(l)\n",
    "        except:\n",
    "            print(\"Fail\")\n",
    "        k +=1\n",
    "\n",
    "lss =sorted(res, key=lambda x: x[-1])\n",
    "\n",
    "\n",
    "for i in lss:\n",
    "    print(f'{i[0]} & {i[1]} & {i[2]} & {i[3]} & {i[4]} & {i[5]}& {i[6]}\\% \\\\\\\\ ')\n",
    "    print(\"\\hline\")\n",
    "    #client_test.to_csv(f'datasets/client_num_{NUM_CLIENTS}/client_{idx}_test.csv',index=False)\n",
    "\n"
   ],
   "metadata": {
    "collapsed": false,
    "pycharm": {
     "name": "#%%\n"
    }
   }
  }
 ],
 "metadata": {
  "colab": {
   "collapsed_sections": [],
   "name": "building_your_own_federated_learning_algorithm.ipynb",
   "provenance": [],
   "toc_visible": true
  },
  "interpreter": {
   "hash": "c3e462cb11f94a74f50d6f1fbaed957c30a83a27781c9e380b7771869ba07e9d"
  },
  "kernelspec": {
   "display_name": "Python 3",
   "language": "python",
   "name": "python3"
  },
  "language_info": {
   "codemirror_mode": {
    "name": "ipython",
    "version": 3
   },
   "file_extension": ".py",
   "mimetype": "text/x-python",
   "name": "python",
   "nbconvert_exporter": "python",
   "pygments_lexer": "ipython3",
   "version": "3.8.13"
  }
 },
 "nbformat": 4,
 "nbformat_minor": 1
}