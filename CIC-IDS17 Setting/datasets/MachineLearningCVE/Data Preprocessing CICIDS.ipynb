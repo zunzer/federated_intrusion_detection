{
 "cells": [
  {
   "cell_type": "markdown",
   "metadata": {
    "id": "vkdnLiKk71g-",
    "pycharm": {
     "name": "#%% md\n"
    }
   },
   "source": [
    "##### Copyright 2022 Seraphin Zunzer (391415)."
   ]
  },
  {
   "cell_type": "markdown",
   "metadata": {
    "pycharm": {
     "name": "#%% md\n"
    }
   },
   "source": [
    "# Data Preprocessing for Federated Intrusion Detection\n"
   ]
  },
  {
   "cell_type": "code",
   "execution_count": 7,
   "metadata": {
    "pycharm": {
     "name": "#%%\n"
    }
   },
   "outputs": [
    {
     "name": "stdout",
     "output_type": "stream",
     "text": [
      "Successful import!\n",
      "Reading 1 Monday-WorkingHours.pcap_ISCX.csv...\n",
      "52992\n",
      "52992\n",
      "52992\n",
      "52992\n",
      "52992\n",
      "52992\n",
      "52992\n",
      "52992\n",
      "52991\n",
      "52991\n",
      "Reading 2 Tuesday-WorkingHours.pcap_ISCX.csv...\n",
      "44591\n",
      "44591\n",
      "44591\n",
      "44591\n",
      "44591\n",
      "44591\n",
      "44591\n",
      "44591\n",
      "44591\n",
      "44590\n",
      "Reading 3 Wednesday-workingHours.pcap_ISCX.csv...\n",
      "69271\n",
      "69271\n",
      "69271\n",
      "69270\n",
      "69270\n",
      "69270\n",
      "69270\n",
      "69270\n",
      "69270\n",
      "69270\n",
      "Reading 4 Thursday-WorkingHours-Morning-WebAttacks.pcap_ISCX.csv...\n",
      "17037\n",
      "17037\n",
      "17037\n",
      "17037\n",
      "17037\n",
      "17037\n",
      "17036\n",
      "17036\n",
      "17036\n",
      "17036\n",
      "Reading 5. Thursday-WorkingHours-Afternoon-Infilteration.pcap_ISCX.csv...\n",
      "28861\n",
      "28861\n",
      "28860\n",
      "28860\n",
      "28860\n",
      "28860\n",
      "28860\n",
      "28860\n",
      "28860\n",
      "28860\n",
      "Reading 6. Friday-WorkingHours-Morning.pcap_ISCX.csv...\n",
      "19104\n",
      "19104\n",
      "19104\n",
      "19103\n",
      "19103\n",
      "19103\n",
      "19103\n",
      "19103\n",
      "19103\n",
      "19103\n",
      "Reading 7. Friday-WorkingHours-Afternoon-PortScan.pcap_ISCX.csv...\n",
      "28647\n",
      "28647\n",
      "28647\n",
      "28647\n",
      "28647\n",
      "28647\n",
      "28647\n",
      "28646\n",
      "28646\n",
      "28646\n",
      "Reading 8.Friday-WorkingHours-Afternoon-DDos.pcap_ISCX.csv...\n",
      "22575\n",
      "22575\n",
      "22575\n",
      "22575\n",
      "22575\n",
      "22574\n",
      "22574\n",
      "22574\n",
      "22574\n",
      "22574\n",
      "Reading Data Preprocessing CICIDS.ipynb...\n",
      "Reading results...\n"
     ]
    }
   ],
   "source": [
    "import numpy as np\n",
    "import pandas as pd\n",
    "import os\n",
    "import collections\n",
    "\n",
    "print(\"Successful import!\")\n",
    "\n",
    "\n",
    "# divide each data set into 10 parts and save them into client datasets\n",
    "c = 0\n",
    "for filename in os.listdir(os.getcwd()):\n",
    "    print(\"Reading \" + filename + \"...\")\n",
    "    name, file_extension = os.path.splitext(filename)\n",
    "    if '.csv' in file_extension:\n",
    "        df = pd.read_csv(filename)  # read data\n",
    "        for idx, split_df in enumerate(np.array_split(df, 10)):\n",
    "           print(len(split_df.index))\n",
    "           if c == 0:\n",
    "                split_df.to_csv(f'clients_separated/{idx}.csv', index=False)\n",
    "           else:\n",
    "                split_df.to_csv(f'clients_separated/{idx}.csv', mode='a', index=False, header = False)\n",
    "        c+=1\n",
    "\n",
    "\n"
   ]
  }
 ],
 "metadata": {
  "colab": {
   "collapsed_sections": [],
   "name": "building_your_own_federated_learning_algorithm.ipynb",
   "provenance": [],
   "toc_visible": true
  },
  "interpreter": {
   "hash": "c3e462cb11f94a74f50d6f1fbaed957c30a83a27781c9e380b7771869ba07e9d"
  },
  "kernelspec": {
   "display_name": "Python 3",
   "language": "python",
   "name": "python3"
  },
  "language_info": {
   "codemirror_mode": {
    "name": "ipython",
    "version": 3
   },
   "file_extension": ".py",
   "mimetype": "text/x-python",
   "name": "python",
   "nbconvert_exporter": "python",
   "pygments_lexer": "ipython3",
   "version": "3.8.13"
  }
 },
 "nbformat": 4,
 "nbformat_minor": 1
}