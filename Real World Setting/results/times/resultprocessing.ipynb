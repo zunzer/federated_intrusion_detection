{
 "cells": [
  {
   "cell_type": "markdown",
   "metadata": {
    "id": "vkdnLiKk71g-",
    "pycharm": {
     "name": "#%% md\n"
    }
   },
   "source": [
    "##### Copyright 2022 Seraphin Zunzer (391415)."
   ]
  },
  {
   "cell_type": "markdown",
   "metadata": {
    "pycharm": {
     "name": "#%% md\n"
    }
   },
   "source": [
    "# Data Preprocessing for Federated Intrusion Detection\n"
   ]
  },
  {
   "cell_type": "code",
   "execution_count": 5,
   "outputs": [
    {
     "name": "stdout",
     "output_type": "stream",
     "text": [
      "Reading resultprocessing.ipynb...\n",
      "Reading times_[Installation Attack Tool].txt...\n",
      "Reading times_[SSH  Data leakage].txt...\n",
      "Reading times_[SSH Brute Force Response].txt...\n",
      "Reading times_[SSH Brute Force].txt...\n",
      "Reading times_[SSH Privilege Escalation].txt...\n",
      "\\makecell{times_[Installation Attack Tool]} & 0.1499 & 2.1508 & 0.5234 & 844 & 56889& 1.5\\% \\\\ \n",
      "\\hline\n",
      "\\makecell{times_[SSH  Data leakage]} & 0.1631 & 1.4369 & 0.4908 & 346 & 535& 64.7\\% \\\\ \n",
      "\\hline\n",
      "\\makecell{times_[SSH Brute Force Response]} & 0.1018 & 3.9953 & 0.5313 & 13265 & 49324& 26.9\\% \\\\ \n",
      "\\hline\n",
      "\\makecell{times_[SSH Brute Force]} & 0.1444 & 3.3569 & 0.5427 & 1008 & 51090& 2.0\\% \\\\ \n",
      "\\hline\n",
      "\\makecell{times_[SSH Privilege Escalation]} & 0.1557 & 3.5548 & 0.4663 & 90 & 548& 16.4\\% \\\\ \n",
      "\\hline\n"
     ]
    }
   ],
   "source": [
    "import numpy as np\n",
    "import pandas as pd\n",
    "import os\n",
    "import collections\n",
    "\n",
    "res = []\n",
    "c = []\n",
    "k = 0\n",
    "for filename in os.listdir(os.getcwd()):\n",
    "    print(\"Reading \" + filename + \"...\")\n",
    "    name, file_extension = os.path.splitext(filename)\n",
    "    if 'times' in name:\n",
    "        x = []\n",
    "        total = 0\n",
    "        with open(filename, 'r') as f:\n",
    "            for line in f:\n",
    "                if line: #avoid blank lines\n",
    "                    total +=1\n",
    "                    if (line.split(\", \")[1] == \"True\"):\n",
    "                        x.append(float(line.split(\", \")[0]))\n",
    "        #print(x)\n",
    "        if len(x) > 0:\n",
    "            l = [\"\\makecell{\"+name+\"}\", round(min(x),4), round(max(x),4),round(sum(x)/len(x),4), len(x), total , round((len(x)/total)*100,1)]\n",
    "            res.append(l)\n",
    "#        except:\n",
    "#            print(\"Fail\")\n",
    "        k +=1\n",
    "\n",
    "#lss =sorted(res, key=lambda x: x[-1])\n",
    "\n",
    "\n",
    "for i in res:\n",
    "    print(f'{i[0]} & {i[1]} & {i[2]} & {i[3]} & {i[4]} & {i[5]}& {i[6]}\\% \\\\\\\\ ')\n",
    "    print(\"\\hline\")\n",
    "    #client_test.to_csv(f'datasets/client_num_{NUM_CLIENTS}/client_{idx}_test.csv',index=False)\n"
   ],
   "metadata": {
    "collapsed": false,
    "pycharm": {
     "name": "#%%\n"
    }
   }
  },
  {
   "cell_type": "code",
   "execution_count": 17,
   "outputs": [
    {
     "name": "stdout",
     "output_type": "stream",
     "text": [
      "['meta.len', 'meta.protocols', 'ip.addr', 'sll.halen', 'sll.pkttype', 'sll.eth', 'sll.hatype', 'sll.unused', 'ipv6.addr', 'ipv6.plen', 'ipv6.tclass', 'ipv6.flow', 'ipv6.dst', 'ipv6.nxt', 'ipv6.src_host', 'ipv6.host', 'ipv6.hlim', 'tcp.window_size_scalefactor', 'tcp.checksum.status', 'tcp.analysis.bytes_in_flight', 'tcp.analysis.push_bytes_sent', 'tcp.payload', 'tcp.port', 'tcp.len', 'tcp.hdr_len', 'tcp.window_size', 'tcp.checksum', 'tcp.ack', 'tcp.srcport', 'tcp.stream', 'tcp.dstport', 'tcp.seq', 'tcp.window_size_value', 'tcp.status', 'tcp.urgent_pointer', 'tcp.nxtseq', 'data.data', 'data.len', 'tcp.analysis.acks_frame', 'tcp.analysis.ack_rtt', 'sll.ltype', 'cohda.Type', 'cohda.Ret', 'cohda.llc.MKxIFMsg.Ret', 'ipv6.addr', 'ipv6.dst', 'ipv6.plen', 'tcp.stream', 'tcp.payload', 'tcp.urgent_pointer', 'tcp.port', 'tcp.options.nop', 'tcp.options.timestamp', 'tcp.flags', 'tcp.window_size_scalefactor', 'tcp.dstport', 'tcp.len', 'tcp.checksum', 'tcp.window_size', 'tcp.srcport', 'tcp.checksum.status', 'tcp.nxtseq', 'tcp.status', 'tcp.analysis.bytes_in_flight', 'tcp.analysis.push_bytes_sent', 'tcp.ack', 'tcp.hdr_len', 'tcp.seq', 'tcp.window_size_value', 'data.data', 'data.len', 'tcp.analysis.acks_frame', 'tcp.analysis.ack_rtt', 'eth.src.addr', 'eth.src.eth.src_resolved', 'eth.src.ig', 'eth.src.src_resolved', 'eth.src.addr_resolved', 'ip.proto', 'ip.dst_host', 'ip.flags', 'ip.len', 'ip.checksum', 'ip.checksum.status', 'ip.version', 'ip.host', 'ip.status', 'ip.id', 'ip.hdr_len', 'ip.ttl']\n"
     ]
    }
   ],
   "source": [
    "l1 = ['meta.len', 'meta.protocols','ip.addr','sll.halen','sll.pkttype','sll.eth','sll.hatype','sll.unused','ipv6.addr','ipv6.plen','ipv6.tclass','ipv6.flow','ipv6.dst','ipv6.nxt','ipv6.src_host','ipv6.host','ipv6.hlim','tcp.window_size_scalefactor','tcp.options','tcp.checksum.status','tcp.analysis.bytes_in_flight','tcp.analysis.push_bytes_sent','tcp.payload','tcp.port','tcp.len','tcp.flags.ns','tcp.flags.push','tcp.flags.reset','tcp.flags.res','tcp.flags.urg','tcp.flags.cwr','tcp.flags.str','tcp.flags.fin','tcp.flags.ack','tcp.flags.ecn','tcp.hdr_len','tcp.window_size','tcp.checksum','tcp.ack','tcp.srcport','tcp.stream','tcp.dstport','tcp.seq','tcp.window_size_value','tcp.status','tcp.urgent_pointer','tcp.nxtseq','data.data','data.len','tcp.analysis.acks_frame','tcp.analysis.ack_rtt','sll.ltype','cohda.RxPowerB','cohda.ChannelID','cohda.Type','cohda.RxPowerA','cohda.llc.MKxRxPacketData.RxFrameLength','cohda.FCSPass','cohda.Ret','cohda.llc.MKxIFMsg.Ret','cohda.llc.MKxRxPacketData.RxNoiseA','cohda.RxNoiseA','cohda.llc.MKxRxPacketData.RxPowerA','cohda.llc.MKxRxPacketData.ChannelID','cohda.MCS','cohda.Reserved2','wlan.addr','wlan.sa_resolved','wlan.bssid_resolved','wlan.type_subtype','wlan.qos.eosp','wlan.qos.amsdupresent','wlan.qos.priority','ipv6.addr','ipv6.dst','ipv6.plen','tcp.stream','tcp.payload','tcp.urgent_pointer','tcp.port','tcp.options.nop','tcp.options.timestamp','tcp.flags','tcp.window_size_scalefactor','tcp.dstport','tcp.len','tcp.checksum','tcp.window_size','tcp.srcport','tcp.checksum.status','tcp.nxtseq','tcp.status','tcp.analysis.bytes_in_flight','tcp.analysis.push_bytes_sent','tcp.ack','tcp.hdr_len','tcp.seq','tcp.window_size_value','data.data','data.len','tcp.analysis.acks_frame','tcp.analysis.ack_rtt','eth.src.addr','eth.src.eth.src_resolved','eth.src.ig','eth.src.src_resolved','eth.src.addr_resolved','ip.proto','ip.dst_host','ip.flags','ip.len','ip.checksum','ip.checksum.status','ip.version','ip.host','ip.status','ip.id','ip.hdr_len','ip.ttl','ssh.packet_length_encrypted','ssh.encrypted_packet']  # read data\n",
    "\n",
    "l2 = ['wlan.qos.tid', 'wlan.qos.txop_dur_req', 'month', 'tcp.flags.syn', 'cohda.llc.MKxRxPacketData.RxFrame', 'wlan.type_subtype', 'ssh.packet_length_encrypted', 'tcp.flags.ack', 'day', 'cohda.Reserved2', 'cohda.MCS', 'wlan.qos.amsdupresent', 'wlan.sa_resolved', 'tcp.flags.str', 'cohda.RxPowerA', 'cohda.llc.MKxRxPacketData.RxNoiseA', 'tcp.flags.cwr', 'tcp.flags.urg', 'tcp.flags.push', 'hour', 'wlan.bssid_resolved', 'tcp.flags.fin', 'ssh.encrypted_packet', 'tcp.flags.res', 'cohda.RxPowerB', 'cohda.llc.MKxRxPacketData.RxPowerA', 'cohda.RxNoiseA', 'tcp.flags.ecn', 'tcp.flags.ns', 'wlan.addr', 'cohda.llc.MKxRxPacketData.RxFrameLength', 'seconds', 'tcp.options', 'wlan.qos.priority', 'cohda.llc.MKxRxPacketData.ChannelID', 'year', 'tcp.flags.reset', 'cohda.ChannelID', 'minutes', 'wlan.qos.eosp', 'cohda.FCSPass']\n",
    "\n",
    "res =[]\n",
    "for i in l1:\n",
    "    if not i in l2:\n",
    "        res.append(i)\n",
    "\n",
    "print(res)"
   ],
   "metadata": {
    "collapsed": false,
    "pycharm": {
     "name": "#%%\n"
    }
   }
  },
  {
   "cell_type": "code",
   "execution_count": 2,
   "outputs": [
    {
     "name": "stdout",
     "output_type": "stream",
     "text": [
      "Reading resultprocessing.ipynb...\n",
      "Reading times_[Installation Attack Tool].txt...\n",
      "Reading times_[SSH  Data leakage].txt...\n",
      "Reading times_[SSH Brute Force Response].txt...\n",
      "Reading times_[SSH Brute Force].txt...\n",
      "Reading times_[SSH Privilege Escalation].txt...\n"
     ]
    }
   ],
   "source": [],
   "metadata": {
    "collapsed": false,
    "pycharm": {
     "name": "#%%\n"
    }
   }
  },
  {
   "cell_type": "code",
   "execution_count": null,
   "outputs": [],
   "source": [],
   "metadata": {
    "collapsed": false,
    "pycharm": {
     "name": "#%%\n"
    }
   }
  }
 ],
 "metadata": {
  "colab": {
   "collapsed_sections": [],
   "name": "building_your_own_federated_learning_algorithm.ipynb",
   "provenance": [],
   "toc_visible": true
  },
  "interpreter": {
   "hash": "c3e462cb11f94a74f50d6f1fbaed957c30a83a27781c9e380b7771869ba07e9d"
  },
  "kernelspec": {
   "display_name": "Python 3",
   "language": "python",
   "name": "python3"
  },
  "language_info": {
   "codemirror_mode": {
    "name": "ipython",
    "version": 3
   },
   "file_extension": ".py",
   "mimetype": "text/x-python",
   "name": "python",
   "nbconvert_exporter": "python",
   "pygments_lexer": "ipython3",
   "version": "3.8.13"
  }
 },
 "nbformat": 4,
 "nbformat_minor": 1
}